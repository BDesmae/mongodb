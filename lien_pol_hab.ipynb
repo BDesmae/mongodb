{
 "cells": [
  {
   "cell_type": "code",
   "execution_count": 134,
   "metadata": {
    "collapsed": true
   },
   "outputs": [],
   "source": [
    "import numpy as np\n",
    "import pandas as pd\n",
    "import seaborn as sns\n",
    "import matplotlib.pyplot as plt\n",
    "from sklearn import preprocessing\n",
    "from sklearn.linear_model import LinearRegression\n",
    "from sklearn import metrics\n",
    "from sklearn.metrics import mean_squared_error"
   ]
  },
  {
   "cell_type": "code",
   "execution_count": 135,
   "metadata": {
    "collapsed": true
   },
   "outputs": [],
   "source": [
    "infra = pd.read_csv(\"C:/Users/Dell/Desktop/eval_mongodb/crim_gen_1_Data.csv\", sep=',')"
   ]
  },
  {
   "cell_type": "code",
   "execution_count": 136,
   "metadata": {},
   "outputs": [],
   "source": [
    "policier = pd.read_csv(\"C:/Users/Dell/Desktop/eval_mongodb/crim_plce_1_Data_2.csv\")"
   ]
  },
  {
   "cell_type": "code",
   "execution_count": 137,
   "metadata": {},
   "outputs": [
    {
     "data": {
      "text/html": [
       "<div>\n",
       "<style scoped>\n",
       "    .dataframe tbody tr th:only-of-type {\n",
       "        vertical-align: middle;\n",
       "    }\n",
       "\n",
       "    .dataframe tbody tr th {\n",
       "        vertical-align: top;\n",
       "    }\n",
       "\n",
       "    .dataframe thead th {\n",
       "        text-align: right;\n",
       "    }\n",
       "</style>\n",
       "<table border=\"1\" class=\"dataframe\">\n",
       "  <thead>\n",
       "    <tr style=\"text-align: right;\">\n",
       "      <th></th>\n",
       "      <th>TIME</th>\n",
       "      <th>GEO</th>\n",
       "      <th>nb_policier</th>\n",
       "    </tr>\n",
       "  </thead>\n",
       "  <tbody>\n",
       "    <tr>\n",
       "      <th>35</th>\n",
       "      <td>1998</td>\n",
       "      <td>Turquie</td>\n",
       "      <td>322766</td>\n",
       "    </tr>\n",
       "    <tr>\n",
       "      <th>71</th>\n",
       "      <td>1999</td>\n",
       "      <td>Turquie</td>\n",
       "      <td>345033</td>\n",
       "    </tr>\n",
       "    <tr>\n",
       "      <th>107</th>\n",
       "      <td>2000</td>\n",
       "      <td>Turquie</td>\n",
       "      <td>347806</td>\n",
       "    </tr>\n",
       "    <tr>\n",
       "      <th>143</th>\n",
       "      <td>2001</td>\n",
       "      <td>Turquie</td>\n",
       "      <td>368942</td>\n",
       "    </tr>\n",
       "    <tr>\n",
       "      <th>179</th>\n",
       "      <td>2002</td>\n",
       "      <td>Turquie</td>\n",
       "      <td>370095</td>\n",
       "    </tr>\n",
       "    <tr>\n",
       "      <th>215</th>\n",
       "      <td>2003</td>\n",
       "      <td>Turquie</td>\n",
       "      <td>318189</td>\n",
       "    </tr>\n",
       "    <tr>\n",
       "      <th>251</th>\n",
       "      <td>2004</td>\n",
       "      <td>Turquie</td>\n",
       "      <td>327371</td>\n",
       "    </tr>\n",
       "    <tr>\n",
       "      <th>287</th>\n",
       "      <td>2005</td>\n",
       "      <td>Turquie</td>\n",
       "      <td>330310</td>\n",
       "    </tr>\n",
       "    <tr>\n",
       "      <th>323</th>\n",
       "      <td>2006</td>\n",
       "      <td>Turquie</td>\n",
       "      <td>325738</td>\n",
       "    </tr>\n",
       "    <tr>\n",
       "      <th>359</th>\n",
       "      <td>2007</td>\n",
       "      <td>Turquie</td>\n",
       "      <td>329533</td>\n",
       "    </tr>\n",
       "  </tbody>\n",
       "</table>\n",
       "</div>"
      ],
      "text/plain": [
       "     TIME      GEO  nb_policier\n",
       "35   1998  Turquie       322766\n",
       "71   1999  Turquie       345033\n",
       "107  2000  Turquie       347806\n",
       "143  2001  Turquie       368942\n",
       "179  2002  Turquie       370095\n",
       "215  2003  Turquie       318189\n",
       "251  2004  Turquie       327371\n",
       "287  2005  Turquie       330310\n",
       "323  2006  Turquie       325738\n",
       "359  2007  Turquie       329533"
      ]
     },
     "execution_count": 137,
     "metadata": {},
     "output_type": "execute_result"
    }
   ],
   "source": [
    "policier = policier.drop(policier[policier.GEO != 'Turquie'].index)\n",
    "policier['Value'] = policier['Value'].astype('int64')\n",
    "policier = policier.drop(columns=['UNIT', 'Flag and Footnotes'])\n",
    "policier = policier.rename(columns={\"Value\": \"nb_policier\"})\n",
    "policier"
   ]
  },
  {
   "cell_type": "code",
   "execution_count": 138,
   "metadata": {},
   "outputs": [
    {
     "data": {
      "text/html": [
       "<div>\n",
       "<style scoped>\n",
       "    .dataframe tbody tr th:only-of-type {\n",
       "        vertical-align: middle;\n",
       "    }\n",
       "\n",
       "    .dataframe tbody tr th {\n",
       "        vertical-align: top;\n",
       "    }\n",
       "\n",
       "    .dataframe thead th {\n",
       "        text-align: right;\n",
       "    }\n",
       "</style>\n",
       "<table border=\"1\" class=\"dataframe\">\n",
       "  <thead>\n",
       "    <tr style=\"text-align: right;\">\n",
       "      <th></th>\n",
       "      <th>TIME</th>\n",
       "      <th>GEO</th>\n",
       "      <th>nb_infra</th>\n",
       "    </tr>\n",
       "  </thead>\n",
       "  <tbody>\n",
       "    <tr>\n",
       "      <th>190</th>\n",
       "      <td>1998</td>\n",
       "      <td>Turquie</td>\n",
       "      <td>357311.0</td>\n",
       "    </tr>\n",
       "    <tr>\n",
       "      <th>385</th>\n",
       "      <td>1999</td>\n",
       "      <td>Turquie</td>\n",
       "      <td>338606.0</td>\n",
       "    </tr>\n",
       "    <tr>\n",
       "      <th>580</th>\n",
       "      <td>2000</td>\n",
       "      <td>Turquie</td>\n",
       "      <td>337079.0</td>\n",
       "    </tr>\n",
       "    <tr>\n",
       "      <th>775</th>\n",
       "      <td>2001</td>\n",
       "      <td>Turquie</td>\n",
       "      <td>400337.0</td>\n",
       "    </tr>\n",
       "    <tr>\n",
       "      <th>970</th>\n",
       "      <td>2002</td>\n",
       "      <td>Turquie</td>\n",
       "      <td>438714.0</td>\n",
       "    </tr>\n",
       "    <tr>\n",
       "      <th>1165</th>\n",
       "      <td>2003</td>\n",
       "      <td>Turquie</td>\n",
       "      <td>472153.0</td>\n",
       "    </tr>\n",
       "    <tr>\n",
       "      <th>1360</th>\n",
       "      <td>2004</td>\n",
       "      <td>Turquie</td>\n",
       "      <td>507539.0</td>\n",
       "    </tr>\n",
       "    <tr>\n",
       "      <th>1555</th>\n",
       "      <td>2005</td>\n",
       "      <td>Turquie</td>\n",
       "      <td>667820.0</td>\n",
       "    </tr>\n",
       "    <tr>\n",
       "      <th>1750</th>\n",
       "      <td>2006</td>\n",
       "      <td>Turquie</td>\n",
       "      <td>975118.0</td>\n",
       "    </tr>\n",
       "    <tr>\n",
       "      <th>1945</th>\n",
       "      <td>2007</td>\n",
       "      <td>Turquie</td>\n",
       "      <td>970554.0</td>\n",
       "    </tr>\n",
       "  </tbody>\n",
       "</table>\n",
       "</div>"
      ],
      "text/plain": [
       "      TIME      GEO  nb_infra\n",
       "190   1998  Turquie  357311.0\n",
       "385   1999  Turquie  338606.0\n",
       "580   2000  Turquie  337079.0\n",
       "775   2001  Turquie  400337.0\n",
       "970   2002  Turquie  438714.0\n",
       "1165  2003  Turquie  472153.0\n",
       "1360  2004  Turquie  507539.0\n",
       "1555  2005  Turquie  667820.0\n",
       "1750  2006  Turquie  975118.0\n",
       "1945  2007  Turquie  970554.0"
      ]
     },
     "execution_count": 138,
     "metadata": {},
     "output_type": "execute_result"
    }
   ],
   "source": [
    "infra = infra.drop(infra[infra.GEO != 'Turquie'].index)\n",
    "infra = infra.drop(infra[infra.ICCS != 'Total'].index)\n",
    "infra = infra.drop(columns=['UNIT', 'ICCS', 'Flag and Footnotes'])\n",
    "infra = infra.rename(columns={\"Value\": \"nb_infra\"})\n",
    "infra"
   ]
  },
  {
   "cell_type": "code",
   "execution_count": 139,
   "metadata": {},
   "outputs": [
    {
     "data": {
      "text/html": [
       "<div>\n",
       "<style scoped>\n",
       "    .dataframe tbody tr th:only-of-type {\n",
       "        vertical-align: middle;\n",
       "    }\n",
       "\n",
       "    .dataframe tbody tr th {\n",
       "        vertical-align: top;\n",
       "    }\n",
       "\n",
       "    .dataframe thead th {\n",
       "        text-align: right;\n",
       "    }\n",
       "</style>\n",
       "<table border=\"1\" class=\"dataframe\">\n",
       "  <thead>\n",
       "    <tr style=\"text-align: right;\">\n",
       "      <th></th>\n",
       "      <th>TIME</th>\n",
       "      <th>GEO</th>\n",
       "      <th>nb_policier</th>\n",
       "      <th>nb_infra</th>\n",
       "    </tr>\n",
       "  </thead>\n",
       "  <tbody>\n",
       "    <tr>\n",
       "      <th>0</th>\n",
       "      <td>1998</td>\n",
       "      <td>Turquie</td>\n",
       "      <td>322766</td>\n",
       "      <td>357311.0</td>\n",
       "    </tr>\n",
       "    <tr>\n",
       "      <th>1</th>\n",
       "      <td>1999</td>\n",
       "      <td>Turquie</td>\n",
       "      <td>345033</td>\n",
       "      <td>338606.0</td>\n",
       "    </tr>\n",
       "    <tr>\n",
       "      <th>2</th>\n",
       "      <td>2000</td>\n",
       "      <td>Turquie</td>\n",
       "      <td>347806</td>\n",
       "      <td>337079.0</td>\n",
       "    </tr>\n",
       "    <tr>\n",
       "      <th>3</th>\n",
       "      <td>2001</td>\n",
       "      <td>Turquie</td>\n",
       "      <td>368942</td>\n",
       "      <td>400337.0</td>\n",
       "    </tr>\n",
       "    <tr>\n",
       "      <th>4</th>\n",
       "      <td>2002</td>\n",
       "      <td>Turquie</td>\n",
       "      <td>370095</td>\n",
       "      <td>438714.0</td>\n",
       "    </tr>\n",
       "    <tr>\n",
       "      <th>5</th>\n",
       "      <td>2003</td>\n",
       "      <td>Turquie</td>\n",
       "      <td>318189</td>\n",
       "      <td>472153.0</td>\n",
       "    </tr>\n",
       "    <tr>\n",
       "      <th>6</th>\n",
       "      <td>2004</td>\n",
       "      <td>Turquie</td>\n",
       "      <td>327371</td>\n",
       "      <td>507539.0</td>\n",
       "    </tr>\n",
       "    <tr>\n",
       "      <th>7</th>\n",
       "      <td>2005</td>\n",
       "      <td>Turquie</td>\n",
       "      <td>330310</td>\n",
       "      <td>667820.0</td>\n",
       "    </tr>\n",
       "    <tr>\n",
       "      <th>8</th>\n",
       "      <td>2006</td>\n",
       "      <td>Turquie</td>\n",
       "      <td>325738</td>\n",
       "      <td>975118.0</td>\n",
       "    </tr>\n",
       "    <tr>\n",
       "      <th>9</th>\n",
       "      <td>2007</td>\n",
       "      <td>Turquie</td>\n",
       "      <td>329533</td>\n",
       "      <td>970554.0</td>\n",
       "    </tr>\n",
       "  </tbody>\n",
       "</table>\n",
       "</div>"
      ],
      "text/plain": [
       "   TIME      GEO  nb_policier  nb_infra\n",
       "0  1998  Turquie       322766  357311.0\n",
       "1  1999  Turquie       345033  338606.0\n",
       "2  2000  Turquie       347806  337079.0\n",
       "3  2001  Turquie       368942  400337.0\n",
       "4  2002  Turquie       370095  438714.0\n",
       "5  2003  Turquie       318189  472153.0\n",
       "6  2004  Turquie       327371  507539.0\n",
       "7  2005  Turquie       330310  667820.0\n",
       "8  2006  Turquie       325738  975118.0\n",
       "9  2007  Turquie       329533  970554.0"
      ]
     },
     "execution_count": 139,
     "metadata": {},
     "output_type": "execute_result"
    }
   ],
   "source": [
    "merge = pd.merge(policier, infra,  how='left', left_on=['TIME','GEO'], right_on = ['TIME','GEO'])\n",
    "merge"
   ]
  },
  {
   "cell_type": "code",
   "execution_count": 147,
   "metadata": {},
   "outputs": [
    {
     "data": {
      "image/png": "[encoded data removed]",
      "text/plain": [
       "<Figure size 432x288 with 1 Axes>"
      ]
     },
     "metadata": {},
     "output_type": "display_data"
    }
   ],
   "source": [
    "pol_arr = np.array(merge['nb_policier'])\n",
    "pol_sigma = np.std(pol_arr)\n",
    "pol_mean = np.mean(pol_arr)\n",
    "pol_standardized = merge['nb_policier'].apply(lambda x: (x-pol_mean)/pol_sigma)\n",
    "sns.distplot(pol_standardized,hist = False, label=\"nb policier\")\n",
    "\n",
    "infra_arr = np.array(merge['nb_infra'])\n",
    "infra_sigma = np.std(infra_arr)\n",
    "infra_mean = np.mean(infra_arr)\n",
    "infra_standardized = merge['nb_infra'].apply(lambda x: (x-infra_mean)/infra_sigma)\n",
    "sns.distplot(infra_standardized,hist = False, label=\"nb infra\")\n",
    "\n",
    "plt.show()"
   ]
  },
  {
   "cell_type": "code",
   "execution_count": 148,
   "metadata": {},
   "outputs": [
    {
     "data": {
      "image/png": "[encoded data removed]",
      "text/plain": [
       "<Figure size 432x288 with 1 Axes>"
      ]
     },
     "metadata": {},
     "output_type": "display_data"
    }
   ],
   "source": [
    "ax1 = plt.plot(policier.TIME,policier.nb_policier, color='black')\n",
    "plt.show()"
   ]
  },
  {
   "cell_type": "code",
   "execution_count": 133,
   "metadata": {},
   "outputs": [
    {
     "data": {
      "image/png": "[encoded data removed]",
      "text/plain": [
       "<Figure size 432x288 with 1 Axes>"
      ]
     },
     "metadata": {},
     "output_type": "display_data"
    }
   ],
   "source": [
    "ax2 = plt.plot(infra.TIME, infra.nb_infra, color='red')\n",
    "plt.show()"
   ]
  },
  {
   "cell_type": "code",
   "execution_count": null,
   "metadata": {
    "collapsed": true
   },
   "outputs": [],
   "source": []
  }
 ],
 "metadata": {
  "kernelspec": {
   "display_name": "Python 3",
   "language": "python",
   "name": "python3"
  },
  "language_info": {
   "codemirror_mode": {
    "name": "ipython",
    "version": 3
   },
   "file_extension": ".py",
   "mimetype": "text/x-python",
   "name": "python",
   "nbconvert_exporter": "python",
   "pygments_lexer": "ipython3",
   "version": "3.6.7"
  }
 },
 "nbformat": 4,
 "nbformat_minor": 2
}
